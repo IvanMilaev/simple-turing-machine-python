{
 "cells": [
  {
   "cell_type": "code",
   "execution_count": 50,
   "metadata": {},
   "outputs": [],
   "source": [
    "\n",
    "\n",
    "\n",
    "\n",
    "class MachineTuring:\n",
    "    def __init__(self, input_tape, commands):\n",
    "        self._tape = list(input_tape)\n",
    "        self._null_symbol = list('0')\n",
    "        self._curr_pntr = len(self._tape) - 2\n",
    "        self._initial_state = 'q1'\n",
    "        self._stop_state = 'q0'\n",
    "        self._current_state = self._initial_state\n",
    "        self._commands = commands\n",
    "    \n",
    "    def moveLeft(self):\n",
    "        print('move left',self._curr_pntr)\n",
    "        self._curr_pntr-=1\n",
    "        \n",
    "        if( self._curr_pntr < 0 ):\n",
    "            self._tape = self._null_symbol + self._tape\n",
    "            self._curr_pntr = 0\n",
    "        \n",
    "    def moveRight(self):\n",
    "        print('move right',self._curr_pntr)\n",
    "        self._curr_pntr+=1\n",
    "        if( self._curr_pntr >= len(self._tape) ):\n",
    "            self._tape =  self._tape + self._null_symbol\n",
    "            print( self._tape)\n",
    "    \n",
    "    def read(self):\n",
    "        print('read',self._curr_pntr)\n",
    "        return self._tape[self._curr_pntr]\n",
    "    \n",
    "    def write(self, value):\n",
    "        print('write',self._curr_pntr,'->', value)\n",
    "        self._tape[self._curr_pntr] = value\n",
    "    \n",
    "    def run(self):\n",
    "        while ( self._current_state !=  self._stop_state ):\n",
    "            current_tape_value = self.read()\n",
    "            command = commands[ self._current_state][current_tape_value].split(\",\")\n",
    "            self.write(command[0])\n",
    "            if(command[1] == 'L'):\n",
    "                self.moveLeft()\n",
    "            if(command[1] == 'R'):\n",
    "                self.moveRight()\n",
    "            \n",
    "            self._current_state = command[2]\n",
    "            \n",
    "        return  self._tape"
   ]
  },
  {
   "cell_type": "code",
   "execution_count": 52,
   "metadata": {},
   "outputs": [
    {
     "name": "stdout",
     "output_type": "stream",
     "text": [
      "read 12\n",
      "write 12 -> 1\n",
      "move left 12\n",
      "read 11\n",
      "write 11 -> 1\n",
      "move left 11\n",
      "read 10\n",
      "write 10 -> 1\n",
      "move left 10\n",
      "read 9\n",
      "write 9 -> 1\n",
      "move left 9\n",
      "read 8\n",
      "write 8 -> 1\n",
      "move right 8\n",
      "read 9\n",
      "write 9 -> 1\n",
      "move right 9\n",
      "read 10\n",
      "write 10 -> 1\n",
      "move right 10\n",
      "read 11\n",
      "write 11 -> 1\n",
      "move right 11\n",
      "read 12\n",
      "write 12 -> 1\n",
      "move right 12\n",
      "read 13\n",
      "write 13 -> 0\n",
      "move left 13\n",
      "read 12\n",
      "write 12 -> 0\n",
      "move left 12\n",
      "read 11\n",
      "write 11 -> 0\n",
      "move left 11\n"
     ]
    },
    {
     "data": {
      "text/plain": [
       "['0', '1', '1', '1', '1', '1', '1', '1', '1', '1', '1', '0', '0', '0']"
      ]
     },
     "execution_count": 52,
     "metadata": {},
     "output_type": "execute_result"
    }
   ],
   "source": [
    "\n",
    "commands = {\n",
    "    'q1': { '1': '1,L,q1', '0': '1,R,q2' },\n",
    "    'q2': { '1': '1,R,q2', '0': '0,L,q3' },\n",
    "    'q3': { '1': '0,L,q4'},\n",
    "    'q4': { '1': '0,L,q0'}\n",
    "    \n",
    "}\n",
    "\n",
    "input_tape = '01111111011110'\n",
    "\n",
    "machine = MachineTuring(input_tape, commands)\n",
    "tape = machine.run()\n",
    "tape"
   ]
  },
  {
   "cell_type": "code",
   "execution_count": 22,
   "metadata": {},
   "outputs": [
    {
     "data": {
      "text/plain": [
       "['1', 'L', 'q1']"
      ]
     },
     "execution_count": 22,
     "metadata": {},
     "output_type": "execute_result"
    }
   ],
   "source": []
  },
  {
   "cell_type": "code",
   "execution_count": 28,
   "metadata": {},
   "outputs": [
    {
     "data": {
      "text/plain": [
       "8"
      ]
     },
     "execution_count": 28,
     "metadata": {},
     "output_type": "execute_result"
    }
   ],
   "source": [
    "input_tape = '01110110'\n",
    "len(list(input_tape))"
   ]
  },
  {
   "cell_type": "code",
   "execution_count": 33,
   "metadata": {},
   "outputs": [
    {
     "ename": "TypeError",
     "evalue": "can only concatenate list (not \"str\") to list",
     "output_type": "error",
     "traceback": [
      "\u001b[0;31m---------------------------------------------------------------------------\u001b[0m",
      "\u001b[0;31mTypeError\u001b[0m                                 Traceback (most recent call last)",
      "\u001b[0;32m<ipython-input-33-5530a10763fc>\u001b[0m in \u001b[0;36m<module>\u001b[0;34m()\u001b[0m\n\u001b[1;32m      2\u001b[0m \u001b[0mb\u001b[0m \u001b[0;34m=\u001b[0m \u001b[0mlist\u001b[0m\u001b[0;34m(\u001b[0m\u001b[0;34m'132245'\u001b[0m\u001b[0;34m)\u001b[0m\u001b[0;34m\u001b[0m\u001b[0;34m\u001b[0m\u001b[0m\n\u001b[1;32m      3\u001b[0m \u001b[0mc\u001b[0m\u001b[0;34m=\u001b[0m\u001b[0;34m'a'\u001b[0m\u001b[0;34m\u001b[0m\u001b[0;34m\u001b[0m\u001b[0m\n\u001b[0;32m----> 4\u001b[0;31m \u001b[0mb\u001b[0m\u001b[0;34m+\u001b[0m\u001b[0mc\u001b[0m\u001b[0;34m\u001b[0m\u001b[0;34m\u001b[0m\u001b[0m\n\u001b[0m",
      "\u001b[0;31mTypeError\u001b[0m: can only concatenate list (not \"str\") to list"
     ]
    }
   ],
   "source": [
    "a = list('fhdgfjhdg')\n",
    "b = list('132245')\n",
    "c='a'\n",
    "b+c"
   ]
  },
  {
   "cell_type": "code",
   "execution_count": null,
   "metadata": {},
   "outputs": [],
   "source": []
  }
 ],
 "metadata": {
  "kernelspec": {
   "display_name": "Python 3",
   "language": "python",
   "name": "python3"
  },
  "language_info": {
   "codemirror_mode": {
    "name": "ipython",
    "version": 3
   },
   "file_extension": ".py",
   "mimetype": "text/x-python",
   "name": "python",
   "nbconvert_exporter": "python",
   "pygments_lexer": "ipython3",
   "version": "3.6.8"
  }
 },
 "nbformat": 4,
 "nbformat_minor": 2
}
