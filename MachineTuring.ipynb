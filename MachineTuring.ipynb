{
 "cells": [
  {
   "cell_type": "code",
   "execution_count": 3,
   "metadata": {},
   "outputs": [],
   "source": [
    "class Tape(object):\n",
    "    \n",
    "    blank_symbol = \" \"\n",
    "    \n",
    "    def __init__(self,\n",
    "                 tape_string = \"\"):\n",
    "        self.__tape = dict((enumerate(tape_string)))\n",
    "        \n",
    "    def __str__(self):\n",
    "        s = \"\"\n",
    "        min_used_index = min(self.__tape.keys()) \n",
    "        max_used_index = max(self.__tape.keys())\n",
    "        for i in range(min_used_index, max_used_index):\n",
    "            s += self.__tape[i]\n",
    "        return s    \n",
    "   \n",
    "    def __getitem__(self,index):\n",
    "        if index in self.__tape:\n",
    "            return self.__tape[index]\n",
    "        else:\n",
    "            return Tape.blank_symbol\n",
    "\n",
    "    def __setitem__(self, pos, char):\n",
    "        self.__tape[pos] = char \n",
    "\n",
    "        \n",
    "class TuringMachine(object):\n",
    "    \n",
    "    def __init__(self, \n",
    "                 tape = \"\", \n",
    "                 blank_symbol = \" \",\n",
    "                 initial_state = \"\",\n",
    "                 final_states = None,\n",
    "                 transition_function = None):\n",
    "        \n",
    "        \n",
    "        self._tape = Tape(tape)\n",
    "        self._head_position = 0\n",
    "        self._blank_symbol = blank_symbol\n",
    "        self._current_state = initial_state\n",
    "        if transition_function == None:\n",
    "            self._transition_function = {}\n",
    "        else:\n",
    "            self._transition_function = transition_function\n",
    "        if final_states == None:\n",
    "            self._final_states = set()\n",
    "        else:\n",
    "            self._final_states = set(final_states)\n",
    "        \n",
    "    def get_tape(self): \n",
    "        return str(self._tape)\n",
    "    \n",
    "    def step(self):\n",
    "        char_under_head = self._tape[self._head_position]\n",
    "        x = (self._current_state, char_under_head)\n",
    "       \n",
    "        if x in self._transition_function:\n",
    "            y = self._transition_function[x]\n",
    "            self._tape[self._head_position] = y[1]\n",
    "            if y[2] == \"R\":\n",
    "                self._head_position += 1\n",
    "            elif y[2] == \"L\":\n",
    "                self._head_position -= 1\n",
    "            self._current_state = y[0]\n",
    "\n",
    "    def final(self):\n",
    "        if self._current_state in self._final_states:\n",
    "            return True\n",
    "        else:\n",
    "            return False"
   ]
  },
  {
   "cell_type": "code",
   "execution_count": 4,
   "metadata": {},
   "outputs": [
    {
     "name": "stdout",
     "output_type": "stream",
     "text": [
      "Input on Tape:\n",
      "010011\n",
      "Result of the Turing machine calculation:\n",
      "101100\n"
     ]
    }
   ],
   "source": [
    "initial_state = \"init\",\n",
    "accepting_states = [\"final\"],\n",
    "transition_function = {(\"init\",\"0\"):(\"init\", \"1\", \"R\"),\n",
    "                       (\"init\",\"1\"):(\"init\", \"0\", \"R\"),\n",
    "                       (\"init\",\" \"):(\"final\",\" \", \"N\"),\n",
    "                       }\n",
    "final_states = {\"final\"}\n",
    "\n",
    "t = TuringMachine(\"010011 \", \n",
    "                  initial_state = \"init\",\n",
    "                  final_states = final_states,\n",
    "                  transition_function=transition_function)\n",
    "\n",
    "print(\"Input on Tape:\\n\" + t.get_tape())\n",
    "\n",
    "while not t.final():\n",
    "    t.step()\n",
    "\n",
    "print(\"Result of the Turing machine calculation:\")    \n",
    "print(t.get_tape())"
   ]
  },
  {
   "cell_type": "code",
   "execution_count": 6,
   "metadata": {},
   "outputs": [
    {
     "data": {
      "application/vnd.jupyter.widget-view+json": {
       "model_id": "49568a33c81f41bc9c00459299174fb0",
       "version_major": 2,
       "version_minor": 0
      },
      "text/plain": [
       "Text(value='*11x11111=* ', description='Initial Tape:', placeholder='Type some initial tape')"
      ]
     },
     "metadata": {},
     "output_type": "display_data"
    },
    {
     "data": {
      "application/vnd.jupyter.widget-view+json": {
       "model_id": "f755cf1bc02545b2ad00c94db8ff6d1a",
       "version_major": 2,
       "version_minor": 0
      },
      "text/plain": [
       "Select(index=1, options=('SUM', 'MULTIPLY'), value='MULTIPLY')"
      ]
     },
     "metadata": {},
     "output_type": "display_data"
    },
    {
     "data": {
      "application/vnd.jupyter.widget-view+json": {
       "model_id": "651170cbd55844ccbcb90eb426d85fa0",
       "version_major": 2,
       "version_minor": 0
      },
      "text/plain": [
       "Button(description='Run Machine!', style=ButtonStyle())"
      ]
     },
     "metadata": {},
     "output_type": "display_data"
    },
    {
     "name": "stdout",
     "output_type": "stream",
     "text": [
      "Input on Tape:\n",
      "*11x11111=*\n",
      "Result of the Turing machine calculation:\n",
      "*11x11111=1111111111\n"
     ]
    }
   ],
   "source": [
    "# \"*111x11=*\" -> \"*111x11=11111*\"\n",
    "multiply = {(\"q1\",\"*\"):(\"q1\", \"*\", \"R\"),\n",
    "           (\"q1\",\"1\"):(\"q1\", \"1\", \"R\"),\n",
    "           (\"q1\",\"x\"):(\"q2\", \"x\", \"R\"),\n",
    "           (\"q2\",\"1\"):(\"q3\",\"-\", \"R\"),\n",
    "           (\"q3\",\"1\"):(\"q3\",\"1\", \"L\"),\n",
    "           (\"q3\",\"-\"):(\"q3\",\"-\", \"L\"),\n",
    "           (\"q3\",\"=\"):(\"q3\",\"=\", \"L\"),\n",
    "           (\"q3\",\"x\"):(\"q4\",\"x\", \"L\"),\n",
    "           (\"q4\",\"1\"):(\"q5\",\"-\", \"R\"),\n",
    "           (\"q4\",\"-\"):(\"q4\",\"-\", \"L\"),\n",
    "           (\"q4\",\"*\"):(\"q7\",\"*\", \"R\"),\n",
    "           (\"q5\",\"x\"):(\"q5\",\"x\", \"R\"),\n",
    "           (\"q5\",\"-\"):(\"q5\",\"-\", \"R\"),\n",
    "           (\"q5\",\"=\"):(\"q5\",\"=\", \"R\"),\n",
    "           (\"q5\",\"1\"):(\"q5\",\"1\", \"R\"),\n",
    "           (\"q5\",\"*\"):(\"q6\",\"1\", \"R\"),\n",
    "           (\"q6\",\" \"):(\"q3\",\"*\", \"L\"),\n",
    "           (\"q7\",\"-\"):(\"q7\",\"1\", \"R\"),\n",
    "           (\"q7\",\"x\"):(\"q8\",\"x\", \"R\"),\n",
    "           (\"q8\",\"-\"):(\"q8\",\"-\", \"R\"),\n",
    "           (\"q8\",\"1\"):(\"q3\",\"-\", \"R\"),\n",
    "           (\"q8\",\"=\"):(\"q9\",\"=\", \"L\"),\n",
    "           (\"q9\",\"-\"):(\"q9\",\"1\", \"L\"),\n",
    "           (\"q9\",\"x\"):(\"q0\",\"x\", \"N\"),\n",
    "           }\n",
    "\n",
    "summ = {\n",
    "    (\"q1\",\"1\"):(\"q1\", \"1\", \"L\"),\n",
    "    (\"q2\",\"1\"):(\"q2\", \"1\", \"R\"),\n",
    "    (\"q3\",\"1\"):(\"q4\", \"0\", \"L\"),\n",
    "    (\"q1\",\"0\"):(\"q2\", \"1\", \"R\"),\n",
    "    (\"q2\",\"0\"):(\"q3\", \"0\", \"L\"),\n",
    "    (\"q4\",\"1\"):(\"q0\", \"0\", \"L\"),\n",
    "    \n",
    "}\n",
    "\n",
    "transition_functions = {\n",
    "    \"MULTIPLY\": multiply,\n",
    "    \"SUM\": summ\n",
    "}\n",
    "\n",
    "final_states = {\"q0\"}\n",
    "\n",
    "\n",
    "import ipywidgets as widgets\n",
    "\n",
    "init_tape = widgets.Text(\n",
    "    value=\"*11x11111=* \",\n",
    "    placeholder='Type some initial tape',\n",
    "    description='Initial Tape:',\n",
    "    disabled=False\n",
    ")\n",
    "\n",
    "display(init_tape)\n",
    "\n",
    "select_algo = widgets.Select(\n",
    "    options=['SUM', 'MULTIPLY'],\n",
    "    value='MULTIPLY',\n",
    "    description='',\n",
    "    disabled=False\n",
    ")\n",
    "\n",
    "display(select_algo)\n",
    "\n",
    "run = widgets.Button(description=\"Run Machine!\")\n",
    "\n",
    "display(run)\n",
    "\n",
    "# def on_run_machine(b):\n",
    "#     print(select_algo.value)\n",
    "#     print(initial_tape.value)\n",
    "#     print( transition_functions[select_algo.value])\n",
    "def on_run_machine(b):\n",
    "    t = TuringMachine(init_tape.value, \n",
    "                  initial_state = \"q1\",\n",
    "                  final_states = final_states,\n",
    "                  transition_function = transition_functions[select_algo.value])\n",
    "\n",
    "    print(\"Input on Tape:\\n\" + t.get_tape())\n",
    "\n",
    "    while not t.final():\n",
    "        t.step()\n",
    "\n",
    "    print(\"Result of the Turing machine calculation:\")    \n",
    "    print(t.get_tape())\n",
    "\n",
    "run.on_click(on_run_machine)"
   ]
  },
  {
   "cell_type": "code",
   "execution_count": 10,
   "metadata": {},
   "outputs": [
    {
     "data": {
      "application/vnd.jupyter.widget-view+json": {
       "model_id": "85e1c26027e34af293822c483cc2e052",
       "version_major": 2,
       "version_minor": 0
      },
      "text/plain": [
       "BoundedIntText(value=7, description='number n:', max=1000, min=1)"
      ]
     },
     "metadata": {},
     "output_type": "display_data"
    },
    {
     "data": {
      "application/vnd.jupyter.widget-view+json": {
       "model_id": "2a519f9a404b439083184cc60b104c72",
       "version_major": 2,
       "version_minor": 0
      },
      "text/plain": [
       "BoundedIntText(value=12, description='number m:', max=1000, min=1)"
      ]
     },
     "metadata": {},
     "output_type": "display_data"
    },
    {
     "data": {
      "application/vnd.jupyter.widget-view+json": {
       "model_id": "33a453ae88d54720b3b382c9d3f45aa9",
       "version_major": 2,
       "version_minor": 0
      },
      "text/plain": [
       "Button(description='multiply!', style=ButtonStyle())"
      ]
     },
     "metadata": {},
     "output_type": "display_data"
    },
    {
     "name": "stdout",
     "output_type": "stream",
     "text": [
      "multiply n x m: \n",
      "Input on Tape:\n",
      "*1111111x111111111111=*\n",
      "Result of the Turing machine calculation:\n",
      "*1111111x111111111111=111111111111111111111111111111111111111111111111111111111111111111111111111111111111\n",
      "Result in decimal:\n",
      "84\n"
     ]
    }
   ],
   "source": [
    "n = widgets.BoundedIntText(\n",
    "    value=7,\n",
    "    min=1,\n",
    "    max=1000,\n",
    "    step=1,\n",
    "    description='number n:',\n",
    "    disabled=False\n",
    ")\n",
    "\n",
    "m = widgets.BoundedIntText(\n",
    "    value=12,\n",
    "    min=1,\n",
    "    max=1000,\n",
    "    step=1,\n",
    "    description='number m:',\n",
    "    disabled=False\n",
    ")\n",
    "\n",
    "multiply = widgets.Button(description=\"multiply!\")\n",
    "display(n,m,multiply)\n",
    "\n",
    "def on_multiply(b):\n",
    "    print('multiply n x m: ')\n",
    "    initial_tape = ''.join(['*']+['1' for _ in range(n.value)]+['x']+['1' for _ in range(m.value)]+['=* '])\n",
    "    t = TuringMachine(initial_tape, \n",
    "                  initial_state = \"q1\",\n",
    "                  final_states = final_states,\n",
    "                  transition_function = transition_functions[select_algo.value])\n",
    "\n",
    "    print(\"Input on Tape:\\n\" + t.get_tape())\n",
    "\n",
    "    while not t.final():\n",
    "        t.step()\n",
    "\n",
    "    print(\"Result of the Turing machine calculation:\") \n",
    "    tape = t.get_tape()\n",
    "    print(tape)\n",
    "    print(\"Result in decimal:\")\n",
    "    print(len(tape.split(\"=\")[1]))\n",
    "    \n",
    "    \n",
    "multiply.on_click(on_multiply)\n",
    "    "
   ]
  },
  {
   "cell_type": "code",
   "execution_count": null,
   "metadata": {},
   "outputs": [],
   "source": []
  }
 ],
 "metadata": {
  "kernelspec": {
   "display_name": "Python 3",
   "language": "python",
   "name": "python3"
  },
  "language_info": {
   "codemirror_mode": {
    "name": "ipython",
    "version": 3
   },
   "file_extension": ".py",
   "mimetype": "text/x-python",
   "name": "python",
   "nbconvert_exporter": "python",
   "pygments_lexer": "ipython3",
   "version": "3.6.8"
  }
 },
 "nbformat": 4,
 "nbformat_minor": 2
}
