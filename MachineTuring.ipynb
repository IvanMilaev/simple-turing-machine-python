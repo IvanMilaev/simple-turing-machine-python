{
 "cells": [
  {
   "cell_type": "code",
   "execution_count": 23,
   "metadata": {},
   "outputs": [
    {
     "ename": "IndentationError",
     "evalue": "expected an indented block (<ipython-input-23-194c464b60e7>, line 12)",
     "output_type": "error",
     "traceback": [
      "\u001b[0;36m  File \u001b[0;32m\"<ipython-input-23-194c464b60e7>\"\u001b[0;36m, line \u001b[0;32m12\u001b[0m\n\u001b[0;31m    self._tape = list(tape)\u001b[0m\n\u001b[0m                           ^\u001b[0m\n\u001b[0;31mIndentationError\u001b[0m\u001b[0;31m:\u001b[0m expected an indented block\n"
     ]
    }
   ],
   "source": [
    "        \n",
    "class TuringMachine:\n",
    "    \n",
    "    def __init__(self, \n",
    "                 tape = \"\", \n",
    "                 blank_symbol = \" \",\n",
    "                 initial_state = \"q1\",\n",
    "                 stop_state = \"q0\",\n",
    "                 transition_function = {}):\n",
    "        \n",
    "        \n",
    "        self._tape = list(tape)\n",
    "        self._head_position = 0\n",
    "        self._blank_symbol = list(blank_symbol)\n",
    "        self._current_state = initial_state\n",
    "        self._transition_function = transition_function\n",
    "        self._stop_state = stop_state\n",
    "        \n",
    "    def getTape(self): \n",
    "        return \"\".join(self._tape)\n",
    "    \n",
    "    \n",
    "    def moveLeft(self):\n",
    "        self._head_position-=1\n",
    "        \n",
    "        if( self._head_position < 0 ):\n",
    "            self._tape = self._blank_symbol + self._tape\n",
    "            self._head_position = 0\n",
    "            \n",
    "    def moveRight(self):\n",
    "        self._head_position+=1\n",
    "        \n",
    "        if( self._head_position >= len(self._tape)):\n",
    "            self._tape =  self._tape + self._blank_symbol\n",
    "            \n",
    "    def write(self, value):\n",
    "        self._tape[self._head_position] = value\n",
    "    \n",
    "    def run(self):\n",
    "        while (self._current_state !=  self._stop_state ):\n",
    "            char_under_head = self._tape[self._head_position]\n",
    "            func = (self._current_state, char_under_head)\n",
    "\n",
    "            if func in self._transition_function:\n",
    "                command = self._transition_function[func]\n",
    "                self.write(command[1])\n",
    "                if command[2] == \"R\":\n",
    "                    self.moveRight()\n",
    "                elif command[2] == \"L\":\n",
    "                    self.moveLeft()\n",
    "                self._current_state = command[0]\n"
   ]
  },
  {
   "cell_type": "code",
   "execution_count": 24,
   "metadata": {},
   "outputs": [
    {
     "data": {
      "application/vnd.jupyter.widget-view+json": {
       "model_id": "b0ca2e75eaf44b33bdab82bdcd3de523",
       "version_major": 2,
       "version_minor": 0
      },
      "text/plain": [
       "Text(value='*11x11111=* ', description='Initial Tape:', placeholder='Type some initial tape')"
      ]
     },
     "metadata": {},
     "output_type": "display_data"
    },
    {
     "data": {
      "application/vnd.jupyter.widget-view+json": {
       "model_id": "133b0c418022461b801c6be2991ef4f9",
       "version_major": 2,
       "version_minor": 0
      },
      "text/plain": [
       "Select(index=1, options=('SUM', 'MULTIPLY'), value='MULTIPLY')"
      ]
     },
     "metadata": {},
     "output_type": "display_data"
    },
    {
     "data": {
      "application/vnd.jupyter.widget-view+json": {
       "model_id": "5447b186759b44329a50866cb1eda658",
       "version_major": 2,
       "version_minor": 0
      },
      "text/plain": [
       "Button(description='Run Machine!', style=ButtonStyle())"
      ]
     },
     "metadata": {},
     "output_type": "display_data"
    },
    {
     "name": "stdout",
     "output_type": "stream",
     "text": [
      "Input on Tape:\n",
      "*11x11111=* \n",
      "Result of the Turing machine calculation:\n",
      "*11x11111=1111111111*\n"
     ]
    }
   ],
   "source": [
    "# \"*111x11=*\" -> \"*111x11=11111*\"\n",
    "multiply = {(\"q1\",\"*\"):(\"q1\", \"*\", \"R\"),\n",
    "           (\"q1\",\"1\"):(\"q1\", \"1\", \"R\"),\n",
    "           (\"q1\",\"x\"):(\"q2\", \"x\", \"R\"),\n",
    "           (\"q2\",\"1\"):(\"q3\",\"-\", \"R\"),\n",
    "           (\"q3\",\"1\"):(\"q3\",\"1\", \"L\"),\n",
    "           (\"q3\",\"-\"):(\"q3\",\"-\", \"L\"),\n",
    "           (\"q3\",\"=\"):(\"q3\",\"=\", \"L\"),\n",
    "           (\"q3\",\"x\"):(\"q4\",\"x\", \"L\"),\n",
    "           (\"q4\",\"1\"):(\"q5\",\"-\", \"R\"),\n",
    "           (\"q4\",\"-\"):(\"q4\",\"-\", \"L\"),\n",
    "           (\"q4\",\"*\"):(\"q7\",\"*\", \"R\"),\n",
    "           (\"q5\",\"x\"):(\"q5\",\"x\", \"R\"),\n",
    "           (\"q5\",\"-\"):(\"q5\",\"-\", \"R\"),\n",
    "           (\"q5\",\"=\"):(\"q5\",\"=\", \"R\"),\n",
    "           (\"q5\",\"1\"):(\"q5\",\"1\", \"R\"),\n",
    "           (\"q5\",\"*\"):(\"q6\",\"1\", \"R\"),\n",
    "           (\"q6\",\" \"):(\"q3\",\"*\", \"L\"),\n",
    "           (\"q7\",\"-\"):(\"q7\",\"1\", \"R\"),\n",
    "           (\"q7\",\"x\"):(\"q8\",\"x\", \"R\"),\n",
    "           (\"q8\",\"-\"):(\"q8\",\"-\", \"R\"),\n",
    "           (\"q8\",\"1\"):(\"q3\",\"-\", \"R\"),\n",
    "           (\"q8\",\"=\"):(\"q9\",\"=\", \"L\"),\n",
    "           (\"q9\",\"-\"):(\"q9\",\"1\", \"L\"),\n",
    "           (\"q9\",\"x\"):(\"q0\",\"x\", \"N\"),\n",
    "           }\n",
    "\n",
    "summ = {\n",
    "    (\"q1\",\"1\"):(\"q1\", \"1\", \"L\"),\n",
    "    (\"q2\",\"1\"):(\"q2\", \"1\", \"R\"),\n",
    "    (\"q3\",\"1\"):(\"q4\", \"0\", \"L\"),\n",
    "    (\"q1\",\"0\"):(\"q2\", \"1\", \"R\"),\n",
    "    (\"q2\",\"0\"):(\"q3\", \"0\", \"L\"),\n",
    "    (\"q4\",\"1\"):(\"q0\", \"0\", \"L\"),\n",
    "    \n",
    "}\n",
    "\n",
    "transition_functions = {\n",
    "    \"MULTIPLY\": multiply,\n",
    "    \"SUM\": summ\n",
    "}\n",
    "\n",
    "stop_state = \"q0\"\n",
    "\n",
    "\n",
    "import ipywidgets as widgets\n",
    "\n",
    "init_tape = widgets.Text(\n",
    "    value=\"*11x11111=* \",\n",
    "    placeholder='Type some initial tape',\n",
    "    description='Initial Tape:',\n",
    "    disabled=False\n",
    ")\n",
    "\n",
    "display(init_tape)\n",
    "\n",
    "select_algo = widgets.Select(\n",
    "    options=['SUM', 'MULTIPLY'],\n",
    "    value='MULTIPLY',\n",
    "    description='',\n",
    "    disabled=False\n",
    ")\n",
    "\n",
    "display(select_algo)\n",
    "\n",
    "run = widgets.Button(description=\"Run Machine!\")\n",
    "\n",
    "display(run)\n",
    "\n",
    "# def on_run_machine(b):\n",
    "#     print(select_algo.value)\n",
    "#     print(initial_tape.value)\n",
    "#     print( transition_functions[select_algo.value])\n",
    "def on_run_machine(b):\n",
    "    t = TuringMachine(init_tape.value,\n",
    "                  transition_function = transition_functions[select_algo.value])\n",
    "\n",
    "    print(\"Input on Tape:\\n\" + t.getTape())\n",
    "\n",
    "    t.run()\n",
    "\n",
    "    print(\"Result of the Turing machine calculation:\")    \n",
    "    print(t.getTape())\n",
    "\n",
    "run.on_click(on_run_machine)"
   ]
  },
  {
   "cell_type": "code",
   "execution_count": 27,
   "metadata": {},
   "outputs": [
    {
     "data": {
      "application/vnd.jupyter.widget-view+json": {
       "model_id": "7cf5e44db73e447280332ab78d17520c",
       "version_major": 2,
       "version_minor": 0
      },
      "text/plain": [
       "BoundedIntText(value=7, description='number n:', max=1000, min=1)"
      ]
     },
     "metadata": {},
     "output_type": "display_data"
    },
    {
     "data": {
      "application/vnd.jupyter.widget-view+json": {
       "model_id": "0c235e3681194688bc854ee08e274c9e",
       "version_major": 2,
       "version_minor": 0
      },
      "text/plain": [
       "BoundedIntText(value=12, description='number m:', max=1000, min=1)"
      ]
     },
     "metadata": {},
     "output_type": "display_data"
    },
    {
     "data": {
      "application/vnd.jupyter.widget-view+json": {
       "model_id": "f529c3e0f3c74881bbaedaeeba5b9f04",
       "version_major": 2,
       "version_minor": 0
      },
      "text/plain": [
       "Button(description='multiply!', style=ButtonStyle())"
      ]
     },
     "metadata": {},
     "output_type": "display_data"
    },
    {
     "name": "stdout",
     "output_type": "stream",
     "text": [
      "multiply n x m: \n",
      "Input on Tape:\n",
      "*1111111x111111111111=* \n",
      "Result of the Turing machine calculation:\n",
      "*1111111x111111111111=111111111111111111111111111111111111111111111111111111111111111111111111111111111111*\n",
      "Result in decimal:\n",
      "84\n"
     ]
    }
   ],
   "source": [
    "n = widgets.BoundedIntText(\n",
    "    value=7,\n",
    "    min=1,\n",
    "    max=1000,\n",
    "    step=1,\n",
    "    description='number n:',\n",
    "    disabled=False\n",
    ")\n",
    "\n",
    "m = widgets.BoundedIntText(\n",
    "    value=12,\n",
    "    min=1,\n",
    "    max=1000,\n",
    "    step=1,\n",
    "    description='number m:',\n",
    "    disabled=False\n",
    ")\n",
    "\n",
    "multiply = widgets.Button(description=\"multiply!\")\n",
    "display(n,m,multiply)\n",
    "\n",
    "def on_multiply(b):\n",
    "    print('multiply n x m: ')\n",
    "    initial_tape = ''.join(['*']+['1' for _ in range(n.value)]+['x']+['1' for _ in range(m.value)]+['=* '])\n",
    "    t = TuringMachine(initial_tape, \n",
    "                  transition_function = transition_functions[select_algo.value])\n",
    "\n",
    "    print(\"Input on Tape:\\n\" + t.getTape())\n",
    "\n",
    "    t.run()\n",
    "\n",
    "    print(\"Result of the Turing machine calculation:\") \n",
    "    tape = t.getTape()\n",
    "    print(tape)\n",
    "    print(\"Result in decimal:\")\n",
    "    print(len(tape.split(\"=\")[1])-1)\n",
    "    \n",
    "    \n",
    "multiply.on_click(on_multiply)\n",
    "    "
   ]
  },
  {
   "cell_type": "code",
   "execution_count": null,
   "metadata": {},
   "outputs": [],
   "source": []
  }
 ],
 "metadata": {
  "kernelspec": {
   "display_name": "Python 3",
   "language": "python",
   "name": "python3"
  },
  "language_info": {
   "codemirror_mode": {
    "name": "ipython",
    "version": 3
   },
   "file_extension": ".py",
   "mimetype": "text/x-python",
   "name": "python",
   "nbconvert_exporter": "python",
   "pygments_lexer": "ipython3",
   "version": "3.6.8"
  }
 },
 "nbformat": 4,
 "nbformat_minor": 2
}
